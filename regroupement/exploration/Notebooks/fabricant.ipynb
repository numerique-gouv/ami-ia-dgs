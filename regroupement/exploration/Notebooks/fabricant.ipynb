{
 "metadata": {
  "language_info": {
   "codemirror_mode": {
    "name": "ipython",
    "version": 3
   },
   "file_extension": ".py",
   "mimetype": "text/x-python",
   "name": "python",
   "nbconvert_exporter": "python",
   "pygments_lexer": "ipython3",
   "version": "3.8.5-final"
  },
  "orig_nbformat": 2,
  "kernelspec": {
   "name": "python38564bite3f1c6cc659f48b99c290ac64d9f76dc",
   "display_name": "Python 3.8.5 64-bit",
   "language": "python"
  }
 },
 "nbformat": 4,
 "nbformat_minor": 2,
 "cells": [
  {
   "cell_type": "code",
   "execution_count": 1,
   "metadata": {},
   "outputs": [],
   "source": [
    "import pandas as pd\n",
    "import numpy as np \n",
    "import os\n",
    "import sys\n",
    "import json\n",
    "\n",
    "sys.path.insert(1,'/home/robin/Documents/DGS/signalement-ia/demonstrateur')\n",
    "import lib_extraction\n",
    "\n",
    "with open(os.path.abspath(os.path.join(\"/home/robin/Documents/DGS/data/\",'Colonnes.json')), 'r') as file:\n",
    "    colonnes = json.load(file)\n",
    "with open(os.path.abspath(os.path.join(\"/home/robin/Documents/DGS/data/\",'mapping.json')), 'r') as file:\n",
    "    mapping = json.load(file)\n"
   ]
  },
  {
   "cell_type": "code",
   "execution_count": 1,
   "metadata": {},
   "outputs": [],
   "source": [
    "import pandas as pd"
   ]
  },
  {
   "cell_type": "code",
   "execution_count": 2,
   "metadata": {},
   "outputs": [],
   "source": [
    "data = pd.read_json('/home/robin/Documents/DGS/Annexe/L3/07_01_2020/cluster/mrv_with_clustering.json')"
   ]
  },
  {
   "cell_type": "code",
   "execution_count": 8,
   "metadata": {},
   "outputs": [
    {
     "output_type": "execute_result",
     "data": {
      "text/plain": [
       "1498"
      ]
     },
     "metadata": {},
     "execution_count": 8
    }
   ],
   "source": [
    "list(set(data['cluster']))[-1]"
   ]
  },
  {
   "cell_type": "code",
   "execution_count": 2,
   "metadata": {},
   "outputs": [],
   "source": [
    "mrv_data = pd.read_csv(\"/home/robin/Documents/DGS/data/declaration_mrv_complet.csv\")\n",
    "fabricant_liste = list(set(mrv_data[\"FABRICANT\"].tolist()))"
   ]
  },
  {
   "cell_type": "code",
   "execution_count": 3,
   "metadata": {},
   "outputs": [
    {
     "output_type": "stream",
     "name": "stdout",
     "text": [
      "2566\n"
     ]
    }
   ],
   "source": [
    "print(len(fabricant_liste))"
   ]
  },
  {
   "cell_type": "code",
   "execution_count": 85,
   "metadata": {},
   "outputs": [],
   "source": [
    "L = sorted(list(map(str, fabricant_liste)))"
   ]
  },
  {
   "cell_type": "code",
   "execution_count": 10,
   "metadata": {},
   "outputs": [],
   "source": [
    "from gensim.utils import deaccent\n",
    "import string\n",
    "import re\n",
    "from pandas.core.common import flatten\n",
    "\n",
    "def clean_fabricant(text):\n",
    "    STOP_WORDS = [\"france\",\"sarl\",'sas','ltd','inc','sro','sa', 'ab']\n",
    "    #lower\n",
    "    text = text.lower()\n",
    "    # Stop words\n",
    "    tokens = text.split(\" \") \n",
    "    tokens = [token for token in tokens if deaccent(token.lower()) not in STOP_WORDS]\n",
    "    # ponctuation\n",
    "    tokens = [token for token in tokens if not all(c in set(string.punctuation) for c in token.lower())]\n",
    "\n",
    "    # Acccent\n",
    "    tokens = [deaccent(token.lower()) for token in tokens]\n",
    "    # Caratère spéciaux\n",
    "    tokens = [re.split('[^A-Za-z]+', str(token)) for token in tokens]\n",
    "    # flatten the list\n",
    "    tokens = list(flatten(tokens))\n",
    "    #\n",
    "    tokens = [re.sub('[^A-Za-z]+', '', str(token)) for token in tokens]\n",
    "\n",
    "    # Mots de 3 caratères\n",
    "    tokens = [token for token in tokens if len(token.lower()) > 2]\n",
    "\n",
    "    return \" \".join(tokens)"
   ]
  },
  {
   "cell_type": "code",
   "execution_count": 11,
   "metadata": {},
   "outputs": [],
   "source": [
    "l = mrv_data[\"FABRICANT\"].map(lambda x :clean_fabricant(str(x)))\n",
    "fabricant_liste_cleaned = list(set(l.tolist()))"
   ]
  },
  {
   "cell_type": "code",
   "execution_count": 12,
   "metadata": {},
   "outputs": [
    {
     "output_type": "execute_result",
     "data": {
      "text/plain": [
       "2280"
      ]
     },
     "metadata": {},
     "execution_count": 12
    }
   ],
   "source": [
    "len(fabricant_liste_cleaned)"
   ]
  },
  {
   "cell_type": "code",
   "execution_count": 8,
   "metadata": {
    "tags": []
   },
   "outputs": [],
   "source": [
    "new_fabricant = []\n",
    "for path in os.listdir(\"/home/robin/Documents/DGS/data/fichiers_test\"):\n",
    "    try :\n",
    "        data = pd.read_csv(os.path.join(\"/home/robin/Documents/DGS/data/fichiers_test\", path))\n",
    "        try :\n",
    "            fabricant = data[data['Column0']=='Fabricant : Nom']['Column1'].values[0]\n",
    "        except : \n",
    "            fabricant = \"-1\"\n",
    "        new_fabricant.append(fabricant)\n",
    "    except :\n",
    "        print(f\"Le document {path} ne peut pas être lu pour des raisons d'encodage\")"
   ]
  },
  {
   "cell_type": "code",
   "execution_count": 13,
   "metadata": {},
   "outputs": [],
   "source": [
    "new_fabricant_cleaned = list(map(clean_fabricant, new_fabricant))"
   ]
  },
  {
   "cell_type": "code",
   "execution_count": 9,
   "metadata": {},
   "outputs": [
    {
     "output_type": "execute_result",
     "data": {
      "text/plain": [
       "['arjo',\n",
       " 'ZEISS',\n",
       " 'Jiangsu Province Jianerkang Medical Dressing\\nCo., Ltd.',\n",
       " 'DORAN',\n",
       " 'ROCHE',\n",
       " 'SIEMENS',\n",
       " 'IHT - Iberhospitex',\n",
       " 'Inconnu',\n",
       " 'Dr Grillo',\n",
       " 'Saint-Jude Médical',\n",
       " 'Diagast',\n",
       " 'BAYER',\n",
       " 'Medtronic',\n",
       " 'LINET',\n",
       " 'BIOSYNEX',\n",
       " 'SMETHS MEDICAL FRANCE',\n",
       " 'Pennine Healthcare',\n",
       " 'NC',\n",
       " 'BGI',\n",
       " 'Laboratoire PAUCOURT',\n",
       " 'SYNTHES',\n",
       " 'LyncMed',\n",
       " 'Johnson&Johnson',\n",
       " 'Procare France',\n",
       " 'Ethicon',\n",
       " 'BAYER',\n",
       " 'SMD',\n",
       " 'BOSTON SCIENTIFIC',\n",
       " 'Biomérieux INC',\n",
       " 'SEGETEX-EIF',\n",
       " 'NC',\n",
       " 'ARJOHUNTLEIGH',\n",
       " 'suntrine',\n",
       " 'Sethygyn  EUROMEDICAL',\n",
       " 'INAMED',\n",
       " 'AEROCOM',\n",
       " 'PEROUSE MEDICAL',\n",
       " 'DORAN',\n",
       " 'Allergan',\n",
       " 'Biomérieux',\n",
       " 'SETHYGYN',\n",
       " 'Biosensors',\n",
       " 'Simport',\n",
       " 'BIOTRONIK',\n",
       " 'BAYER',\n",
       " 'GE HEALTHCARE',\n",
       " 'NEURELEC',\n",
       " 'Saint-Just Medical',\n",
       " 'SEBBIN',\n",
       " 'NOVAPLUS',\n",
       " 'Cepheid',\n",
       " 'LABASTIDE ROUAIROUX',\n",
       " 'EVERPHARMA',\n",
       " 'Saint-Jude Médical',\n",
       " 'ABBOTT',\n",
       " 'MEDTRONIC',\n",
       " 'Saint-Jude Médical',\n",
       " 'EDWARDS LIFESCIENCES',\n",
       " 'COOPER vision',\n",
       " 'Fresenius',\n",
       " 'BBraun',\n",
       " 'IOLTECH',\n",
       " 'bayer',\n",
       " 'CAIR LGL',\n",
       " 'Hôpital de Dax',\n",
       " 'ALLMED MEDICAL GMBH',\n",
       " 'Abbott',\n",
       " 'Laboratoire CDD',\n",
       " 'boston',\n",
       " 'INSULET',\n",
       " 'diagast',\n",
       " 'COVIDIEN',\n",
       " 'PMH - PRODUTOS MÉDICO HOSPITALARES\\nSA',\n",
       " 'BD',\n",
       " 'BIOCELL  ALLERGAN',\n",
       " 'MEDTRONIC',\n",
       " 'Otsuka pharmaceutical France SAS',\n",
       " 'LABORATOIRE 7 MED',\n",
       " 'Cereform',\n",
       " 'ICU MEDICAL',\n",
       " 'MEDLINE',\n",
       " 'SCHILLER FRANCE',\n",
       " 'Allergan',\n",
       " '-1',\n",
       " 'INSULET',\n",
       " 'LSO MEDICAL',\n",
       " 'BBraun',\n",
       " 'Yocon Biology',\n",
       " 'YPSOMED',\n",
       " 'INTEGRA MICROFRANCE',\n",
       " 'Je n ai plus le document',\n",
       " 'ETHICON',\n",
       " 'storz',\n",
       " 'Conceptus',\n",
       " 'Bayer',\n",
       " 'Medtronic',\n",
       " 'GENERAL ELECTRIC',\n",
       " '-1',\n",
       " 'MEDTRONIC',\n",
       " 'CODAN',\n",
       " 'BIOTRONIK',\n",
       " 'l état',\n",
       " 'ANHUI MEIDIKE TECHNOLOGY CO',\n",
       " 'Aseptinmed',\n",
       " 'DIAPRO',\n",
       " 'BARD',\n",
       " 'TERUMO BCT',\n",
       " 'INSULET',\n",
       " 'OTICON',\n",
       " 'Biosensors',\n",
       " 'GE HEALTHCARE',\n",
       " 'SIEMENS HEALTHINEERS',\n",
       " 'Medtronic']"
      ]
     },
     "metadata": {},
     "execution_count": 9
    }
   ],
   "source": [
    "new_fabricant"
   ]
  },
  {
   "cell_type": "code",
   "execution_count": 14,
   "metadata": {},
   "outputs": [
    {
     "output_type": "execute_result",
     "data": {
      "text/plain": [
       "['arjo',\n",
       " 'zeiss',\n",
       " 'jiangsu province jianerkang medical dressing ltd',\n",
       " 'doran',\n",
       " 'roche',\n",
       " 'siemens',\n",
       " 'iht iberhospitex',\n",
       " 'inconnu',\n",
       " 'grillo',\n",
       " 'saint jude medical',\n",
       " 'diagast',\n",
       " 'bayer',\n",
       " 'medtronic',\n",
       " 'linet',\n",
       " 'biosynex',\n",
       " 'smeths medical',\n",
       " 'pennine healthcare',\n",
       " '',\n",
       " 'bgi',\n",
       " 'laboratoire paucourt',\n",
       " 'synthes',\n",
       " 'lyncmed',\n",
       " 'johnson johnson',\n",
       " 'procare',\n",
       " 'ethicon',\n",
       " 'bayer',\n",
       " 'smd',\n",
       " 'boston scientific',\n",
       " 'biomerieux inc',\n",
       " 'segetex eif',\n",
       " '',\n",
       " 'arjohuntleigh',\n",
       " 'suntrine',\n",
       " 'sethygyn euromedical',\n",
       " 'inamed',\n",
       " 'aerocom',\n",
       " 'perouse medical',\n",
       " 'doran',\n",
       " 'allergan',\n",
       " 'biomerieux',\n",
       " 'sethygyn',\n",
       " 'biosensors',\n",
       " 'simport',\n",
       " 'biotronik',\n",
       " 'bayer',\n",
       " 'healthcare',\n",
       " 'neurelec',\n",
       " 'saint just medical',\n",
       " 'sebbin',\n",
       " 'novaplus',\n",
       " 'cepheid',\n",
       " 'labastide rouairoux',\n",
       " 'everpharma',\n",
       " 'saint jude medical',\n",
       " 'abbott',\n",
       " 'medtronic',\n",
       " 'saint jude medical',\n",
       " 'edwards lifesciences',\n",
       " 'cooper vision',\n",
       " 'fresenius',\n",
       " 'bbraun',\n",
       " 'ioltech',\n",
       " 'bayer',\n",
       " 'cair lgl',\n",
       " 'hopital dax',\n",
       " 'allmed medical gmbh',\n",
       " 'abbott',\n",
       " 'laboratoire cdd',\n",
       " 'boston',\n",
       " 'insulet',\n",
       " 'diagast',\n",
       " 'covidien',\n",
       " 'pmh produtos medico hospitalares',\n",
       " '',\n",
       " 'biocell allergan',\n",
       " 'medtronic',\n",
       " 'otsuka pharmaceutical sas',\n",
       " 'laboratoire med',\n",
       " 'cereform',\n",
       " 'icu medical',\n",
       " 'medline',\n",
       " 'schiller',\n",
       " 'allergan',\n",
       " '',\n",
       " 'insulet',\n",
       " 'lso medical',\n",
       " 'bbraun',\n",
       " 'yocon biology',\n",
       " 'ypsomed',\n",
       " 'integra microfrance',\n",
       " 'plus document',\n",
       " 'ethicon',\n",
       " 'storz',\n",
       " 'conceptus',\n",
       " 'bayer',\n",
       " 'medtronic',\n",
       " 'general electric',\n",
       " '',\n",
       " 'medtronic',\n",
       " 'codan',\n",
       " 'biotronik',\n",
       " 'etat',\n",
       " 'anhui meidike technology',\n",
       " 'aseptinmed',\n",
       " 'diapro',\n",
       " 'bard',\n",
       " 'terumo bct',\n",
       " 'insulet',\n",
       " 'oticon',\n",
       " 'biosensors',\n",
       " 'healthcare',\n",
       " 'siemens healthineers',\n",
       " 'medtronic']"
      ]
     },
     "metadata": {},
     "execution_count": 14
    }
   ],
   "source": [
    "new_fabricant_cleaned"
   ]
  },
  {
   "cell_type": "code",
   "execution_count": 16,
   "metadata": {},
   "outputs": [
    {
     "output_type": "stream",
     "name": "stdout",
     "text": [
      "Proximity Guess: arjo 0.6666666666666666 arrow\n",
      "Proximity Guess: zeiss 0.6 kelis\n",
      "Proximity Guess: jiangsu province jianerkang medical dressing ltd 0.6382978723404256 jiangsu vedkang medical science technology ltd\n",
      "Proximity Guess: doran 0.6666666666666666 orliman\n",
      "Proximity Guess: roche 0.7142857142857143 roche sas\n",
      "Proximity Guess: siemens 1.0 siemens\n",
      "Proximity Guess: iht iberhospitex 0.8571428571428571 iberhospitex\n",
      "Proximity Guess: inconnu 1.0 inconnu\n",
      "Proximity Guess: grillo 0.6153846153846154 grifols\n",
      "Proximity Guess: saint jude medical 1.0 saint jude medical\n",
      "Proximity Guess: diagast 1.0 diagast\n",
      "Proximity Guess: bayer 0.7272727272727273 baxter\n",
      "Proximity Guess: medtronic 1.0 medtronic\n",
      "Proximity Guess: linet 1.0 linet\n",
      "Proximity Guess: biosynex 1.0 biosynex\n",
      "Proximity Guess: smeths medical 0.9285714285714286 smiths medical\n",
      "Proximity Guess: pennine healthcare 1.0 pennine healthcare\n",
      "# Direct Guess: \n",
      "Proximity Guess: bgi 0.6666666666666666 btg\n",
      "Proximity Guess: laboratoire paucourt 0.8205128205128205 laboratoire pediact\n",
      "Proximity Guess: synthes 0.875 synthesia\n",
      "Proximity Guess: lyncmed 0.7142857142857143 nilymed\n",
      "Proximity Guess: johnson johnson 1.0 johnson johnson\n",
      "Proximity Guess: procare 1.0 procare\n",
      "Proximity Guess: ethicon 1.0 ethicon\n",
      "Proximity Guess: bayer 0.7272727272727273 baxter\n",
      "Proximity Guess: smd 0.6666666666666666 cosmed\n",
      "Proximity Guess: boston scientific 1.0 boston scientific\n",
      "Proximity Guess: biomerieux inc 1.0 biomerieux inc\n",
      "Proximity Guess: segetex eif 1.0 segetex eif\n",
      "# Direct Guess: \n",
      "Proximity Guess: arjohuntleigh 1.0 arjohuntleigh\n",
      "Proximity Guess: suntrine 0.7058823529411765 sterience\n",
      "Proximity Guess: sethygyn euromedical 0.6666666666666666 aston medical\n",
      "Proximity Guess: inamed 1.0 inamed\n",
      "Proximity Guess: aerocom 0.7142857142857143 arcomed\n",
      "Proximity Guess: perouse medical 1.0 perouse medical\n",
      "Proximity Guess: doran 0.6666666666666666 orliman\n",
      "Proximity Guess: allergan 1.0 allergan\n",
      "Proximity Guess: biomerieux 1.0 biomerieux\n",
      "Proximity Guess: sethygyn 0.5333333333333333 ethicon\n",
      "Proximity Guess: biosensors 1.0 biosensors\n",
      "Proximity Guess: simport 1.0 simport\n",
      "Proximity Guess: biotronik 1.0 biotronik\n",
      "Proximity Guess: bayer 0.7272727272727273 baxter\n",
      "Proximity Guess: healthcare 1.0 healthcare\n",
      "Proximity Guess: neurelec 0.625 santelec\n",
      "Proximity Guess: saint just medical 0.8888888888888888 saint jude medical\n",
      "Proximity Guess: sebbin 0.7272727272727273 sebia\n",
      "Proximity Guess: novaplus 0.75 novalung\n",
      "Proximity Guess: cepheid 1.0 cepheid\n",
      "Proximity Guess: labastide rouairoux 0.5555555555555556 laboratoire roche\n",
      "Proximity Guess: everpharma 0.9523809523809523 ever pharma\n",
      "Proximity Guess: saint jude medical 1.0 saint jude medical\n",
      "Proximity Guess: abbott 0.7058823529411765 abbott gmbh\n",
      "Proximity Guess: medtronic 1.0 medtronic\n",
      "Proximity Guess: saint jude medical 1.0 saint jude medical\n",
      "Proximity Guess: edwards lifesciences 1.0 edwards lifesciences\n",
      "Proximity Guess: cooper vision 0.96 coopervision\n",
      "Proximity Guess: fresenius 0.782608695652174 fresenius vial\n",
      "Proximity Guess: bbraun 0.9090909090909091 braun\n",
      "Proximity Guess: ioltech 0.8571428571428571 biotech\n",
      "Proximity Guess: bayer 0.7272727272727273 baxter\n",
      "Proximity Guess: cair lgl 1.0 cair lgl\n",
      "Proximity Guess: hopital dax 0.7777777777777778 hopital\n",
      "Proximity Guess: allmed medical gmbh 1.0 allmed medical gmbh\n",
      "Proximity Guess: abbott 0.7058823529411765 abbott gmbh\n",
      "Proximity Guess: laboratoire cdd 0.9333333333333333 laboratoire ccd\n",
      "Proximity Guess: boston 0.6666666666666666 balton\n",
      "Proximity Guess: insulet 0.7777777777777778 insulet sas\n",
      "Proximity Guess: diagast 1.0 diagast\n",
      "Proximity Guess: covidien 1.0 covidien\n",
      "Proximity Guess: pmh produtos medico hospitalares 0.875 produtos medico hospitalares pmh\n",
      "# Direct Guess: \n",
      "Proximity Guess: biocell allergan 0.6666666666666666 allergan\n",
      "Proximity Guess: medtronic 1.0 medtronic\n",
      "Proximity Guess: otsuka pharmaceutical sas 0.9130434782608695 otsuka pharmaceutical\n",
      "Proximity Guess: laboratoire med 1.0 laboratoire med\n",
      "Proximity Guess: cereform 0.7142857142857143 cerner\n",
      "Proximity Guess: icu medical 1.0 icu medical\n",
      "Proximity Guess: medline 0.8571428571428571 medlane\n",
      "Proximity Guess: schiller 1.0 schiller\n",
      "Proximity Guess: allergan 1.0 allergan\n",
      "# Direct Guess: \n",
      "Proximity Guess: insulet 0.7777777777777778 insulet sas\n",
      "Proximity Guess: lso medical 1.0 lso medical\n",
      "Proximity Guess: bbraun 0.9090909090909091 braun\n",
      "Proximity Guess: yocon biology 0.6 jce biotechnology\n",
      "Proximity Guess: ypsomed 1.0 ypsomed\n",
      "Proximity Guess: integra microfrance 1.0 integra microfrance\n",
      "Proximity Guess: plus document 0.5 plastiques gosselin\n",
      "Proximity Guess: ethicon 1.0 ethicon\n",
      "Proximity Guess: storz 0.6666666666666666 karl storz\n",
      "Proximity Guess: conceptus 1.0 conceptus\n",
      "Proximity Guess: bayer 0.7272727272727273 baxter\n",
      "Proximity Guess: medtronic 1.0 medtronic\n",
      "Proximity Guess: general electric 1.0 general electric\n",
      "# Direct Guess: \n",
      "Proximity Guess: medtronic 1.0 medtronic\n",
      "Proximity Guess: codan 1.0 codan\n",
      "Proximity Guess: biotronik 1.0 biotronik\n",
      "Proximity Guess: etat 0.7272727272727273 epitact\n",
      "Proximity Guess: anhui meidike technology 0.7659574468085106 cane medical technology\n",
      "Proximity Guess: aseptinmed 0.9523809523809523 asept inmed\n",
      "Proximity Guess: diapro 0.7272727272727273 nipro\n",
      "Proximity Guess: bard 1.0 bard\n",
      "Proximity Guess: terumo bct 0.8333333333333334 terumo bct inc\n",
      "Proximity Guess: insulet 0.7777777777777778 insulet sas\n",
      "Proximity Guess: oticon 0.7692307692307693 optikon\n",
      "Proximity Guess: biosensors 1.0 biosensors\n",
      "Proximity Guess: healthcare 1.0 healthcare\n",
      "Proximity Guess: siemens healthineers 0.7894736842105263 siemens healthcare\n",
      "Proximity Guess: medtronic 1.0 medtronic\n"
     ]
    }
   ],
   "source": [
    "import difflib\n",
    "\n",
    "def compare (new_fabricant,fabricant_liste):\n",
    "    for elt in new_fabricant :\n",
    "        if elt.upper() in fabricant_liste:\n",
    "            print(\"# Direct Guess:\",elt)\n",
    "        else :\n",
    "            ratio = 0\n",
    "            for fab in fabricant_liste:\n",
    "                new_ratio = difflib.SequenceMatcher(lambda x: x == \" \",str(elt),str(fab)).ratio()\n",
    "                if new_ratio>ratio :\n",
    "                    ratio = new_ratio\n",
    "                    fabricant = fab\n",
    "            print(\"Proximity Guess:\",elt,ratio,fabricant)\n",
    "\n",
    "compare(new_fabricant_cleaned,fabricant_liste_cleaned)"
   ]
  },
  {
   "cell_type": "code",
   "execution_count": 32,
   "metadata": {},
   "outputs": [
    {
     "output_type": "stream",
     "name": "stdout",
     "text": [
      "['arjo', 'Jiangsu Province Jianerkang Medical Dressing\\nCo., Ltd.', 'IHT - Iberhospitex', 'NC', 'Laboratoire PAUCOURT', 'Procare France', 'NC', 'Sethygyn  EUROMEDICAL', 'INAMED', 'SETHYGYN', '-1', '-1', 'SEBBIN', 'COOPER vision', 'Fresenius', 'IOLTECH', '-1', 'Abbott', 'Allergan', 'BBraun', 'Medtronic', 'Aseptinmed']\n"
     ]
    }
   ],
   "source": [
    "print(false)"
   ]
  },
  {
   "cell_type": "code",
   "execution_count": 45,
   "metadata": {},
   "outputs": [
    {
     "output_type": "stream",
     "name": "stdout",
     "text": [
      "Le document .~lock.PS_MATERIOVIGILANCE_20201002120734040.pdf.csv# ne peut pas être lu pour des raisons d'encodage ou de format\n",
      "Le document cluster_inference.json ne peut pas être lu pour des raisons d'encodage ou de format\n",
      "Le document topic_inference.json ne peut pas être lu pour des raisons d'encodage ou de format\n",
      "Le document mrv_format.xlsx ne peut pas être lu pour des raisons d'encodage ou de format\n"
     ]
    }
   ],
   "source": [
    "new_fabricant_2 = []\n",
    "for path in os.listdir(\"/home/robin/Documents/DGS/data/serge_csv\"):\n",
    "    #data = pd.read_csv(os.path.join(\"/home/robin/Documents/DGS/data/serge_csv\", path))\n",
    "    try:\n",
    "        file_path = os.path.join(\"/home/robin/Documents/DGS/data/serge_csv\", path)\n",
    "        data = lib_extraction.from_csv_to_mrv_format(file_path, Colonnes = colonnes, mapping=mapping)\n",
    "        fabricant = data['FABRICANT'].values[0]\n",
    "        new_fabricant_2.append(fabricant)\n",
    "    except :\n",
    "        print(f\"Le document {path} ne peut pas être lu pour des raisons d'encodage ou de format\")\n"
   ]
  },
  {
   "cell_type": "code",
   "execution_count": 23,
   "metadata": {},
   "outputs": [],
   "source": [
    "from sklearn import preprocessing\n",
    "le = preprocessing.LabelBinarizer()\n",
    "X = le.fit_transform(mrv_data['FABRICANT'].map(str).fillna(' '))"
   ]
  },
  {
   "cell_type": "code",
   "execution_count": 24,
   "metadata": {},
   "outputs": [
    {
     "output_type": "execute_result",
     "data": {
      "text/plain": [
       "(76954, 2566)"
      ]
     },
     "metadata": {},
     "execution_count": 24
    }
   ],
   "source": [
    "X.shape"
   ]
  },
  {
   "cell_type": "code",
   "execution_count": 77,
   "metadata": {},
   "outputs": [
    {
     "output_type": "stream",
     "name": "stdout",
     "text": [
      "CPU times: user 101 µs, sys: 0 ns, total: 101 µs\nWall time: 107 µs\n"
     ]
    },
    {
     "output_type": "execute_result",
     "data": {
      "text/plain": [
       "0.8571428571428571"
      ]
     },
     "metadata": {},
     "execution_count": 77
    }
   ],
   "source": [
    "%%time\n",
    "difflib.SequenceMatcher(lambda x: x == \" \",\"arjo\",\"arj\").ratio()"
   ]
  },
  {
   "cell_type": "code",
   "execution_count": null,
   "metadata": {},
   "outputs": [],
   "source": []
  }
 ]
}